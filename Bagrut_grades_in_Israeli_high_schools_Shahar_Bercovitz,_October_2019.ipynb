{
  "nbformat": 4,
  "nbformat_minor": 0,
  "metadata": {
    "colab": {
      "name": "Bagrut grades in Israeli high schools - Shahar Bercovitz, October 2019.ipynb",
      "provenance": [],
      "private_outputs": true,
      "collapsed_sections": [
        "ijeRwS-Duzq6",
        "fm1QlyQD8agR",
        "miQ0nJJ65dQw",
        "OLcZdmyu5tF3",
        "1BiEoPQV63XJ",
        "o7GfiEUc-rYJ",
        "Ebn0CUPdEAiu",
        "1p9ph6ha7IGR",
        "TcgqJ2Og8AA-",
        "kP4fulSu8Awb",
        "18YXhC5r8COB",
        "7vNK0Qtf8Cye",
        "vzgtn8lOHsjV",
        "gw4g9g1CW-vF",
        "YLjoMO20qkdI",
        "057UpI1_qr36",
        "RnyrWPskpMNO",
        "BB9KFlv-FcrA",
        "SdeSpz9B5I_h",
        "_E3ks-eIFo_R",
        "qIt58UmG4yzZ",
        "LGcDLFnJNNEC",
        "7YIYYMvvEMk8",
        "pfGqaHdBjsdm",
        "eena9Q-YkB2b",
        "Ndae1BGKJWAL",
        "6VpESIsAksXd",
        "xSbUpCnjWdj0",
        "wroNGuUzS1Mg",
        "UqvTYFHETcUG",
        "eIEBy8ZJyVUJ",
        "C1H6ekWoJOqv",
        "zHF0_Gj-Yee4",
        "I4vrok7IL0pd",
        "PyCef5Ye9y6f",
        "QPCXjTWBMEHu",
        "mnmVQ3hk-5BF"
      ],
      "toc_visible": true,
      "include_colab_link": true
    },
    "kernelspec": {
      "name": "python3",
      "display_name": "Python 3"
    }
  },
  "cells": [
    {
      "cell_type": "markdown",
      "metadata": {
        "id": "view-in-github",
        "colab_type": "text"
      },
      "source": [
        "<a href=\"https://colab.research.google.com/github/Shahar19/Python/blob/master/Bagrut_grades_in_Israeli_high_schools_Shahar_Bercovitz%2C_October_2019.ipynb\" target=\"_parent\"><img src=\"https://colab.research.google.com/assets/colab-badge.svg\" alt=\"Open In Colab\"/></a>"
      ]
    },
    {
      "cell_type": "markdown",
      "metadata": {
        "id": "ijeRwS-Duzq6",
        "colab_type": "text"
      },
      "source": [
        "## **Pandas project - Shahar Bercovitz, Oct 2019**\n",
        "*Bagrut grades in Israeli high schools (2013-2016)*"
      ]
    },
    {
      "cell_type": "markdown",
      "metadata": {
        "id": "fm1QlyQD8agR",
        "colab_type": "text"
      },
      "source": [
        "# **Import Packages**\n"
      ]
    },
    {
      "cell_type": "code",
      "metadata": {
        "id": "eMywStj7v2Vp",
        "colab_type": "code",
        "colab": {}
      },
      "source": [
        "import pandas as pd\n",
        "import numpy as np\n",
        "import matplotlib.pyplot as plt\n",
        "import seaborn as sns\n",
        "from sys import modules\n",
        "import warnings\n",
        "warnings.filterwarnings('ignore')\n",
        "%matplotlib inline "
      ],
      "execution_count": 0,
      "outputs": []
    },
    {
      "cell_type": "markdown",
      "metadata": {
        "id": "miQ0nJJ65dQw",
        "colab_type": "text"
      },
      "source": [
        "# **Data Description**"
      ]
    },
    {
      "cell_type": "markdown",
      "metadata": {
        "id": "7nkCKS0h8wZm",
        "colab_type": "text"
      },
      "source": [
        " **Data Overview**\n",
        "\n",
        "Source: Kaggle\n",
        "\n",
        "dataset link: https://www.kaggle.com/emachlev/bagrut-israel\n",
        "\n",
        "by: Eran Machlev\n",
        "\n",
        "**Info**\n",
        "\n",
        "Te'udat Bagrut (Hebrew: תעודת בגרות‬) is a certificate which attests that a student has successfully passed Israel's high school matriculation examination. Bagrut is a prerequisite for higher education in Israel. A Bagrut certificate is awarded to students who pass the required written (and in some cases oral) subject-matter examinations with a passing mark (56% or higher) in each exam. The Bagrut certificate however should not be confused with a high school diploma (te'udat g'mar tichon, Hebrew: תעודת גמר תיכון‬), which is a certificate awarded by the Ministry of Education attesting that a student has completed 12 years of study. (Source: Wikipedia)\n",
        "\n",
        "**Content**\n",
        "\n",
        "This file contains over 60,000 average Bagrut grades that were taken between 2013 and 2016 by over 1800 schools in various subjects.\n",
        "\n",
        "The data was posted under the Israeli Freedom of Information law and was formatted by Eran Machlev\n",
        "\n",
        "The Citry Mapping was posted under data.gov.il/dataset/citiesandsettelments and was formatted by Shahar Bercovitz"
      ]
    },
    {
      "cell_type": "markdown",
      "metadata": {
        "id": "XOMFTE4-w-KD",
        "colab_type": "text"
      },
      "source": [
        "**Columns description**\n",
        "\n",
        "<div class=\"DataExplorerColumns_Content-sc-nd4frg jtcGRH\">\n",
        "<div class=\"DataExplorerColumns_ColumnType-sc-1ro23id bXvfMT\"><div class=\"ToolTip_ToolTipContainer-sc-f0vhmk eHUYTV\"><span name=\"hashtag\" data-tip=\"true\" data-for=\"tooltip_218\" class=\"DataExplorerColumns_ColumnTypeIcon-sc-17opb71 bLaitT fa fa-hashtag\" currentitem=\"false\"></span><div class=\"__react_component_tooltip place-top type-dark \" id=\"tooltip_218\" data-id=\"tooltip\"><div class=\"ToolTip_ToolTipView-sc-1ci7zcv iiWQyY\">Decimal</div></div></div></div><div class=\"DataExplorerColumns_ColumnMain-sc-sx1t3y kHFuWO\"><span class=\"DataExplorerColumns_ColumnName-sc-1tzfrn7 fqEMUL\">grade</span></div></div><div class=\"DataExplorerColumns_Column-sc-3o3eue dzfjqf\"><div class=\"DataExplorerColumns_ColumnType-sc-1ro23id bXvfMT\"><div class=\"ToolTip_ToolTipContainer-sc-f0vhmk eHUYTV\"><span name=\"hashtag\" data-tip=\"true\" data-for=\"tooltip_219\" class=\"DataExplorerColumns_ColumnTypeIcon-sc-17opb71 bLaitT fa fa-hashtag\" currentitem=\"false\"></span><div class=\"__react_component_tooltip place-top type-dark \" id=\"tooltip_219\" data-id=\"tooltip\"><div class=\"ToolTip_ToolTipView-sc-1ci7zcv iiWQyY\">Integer</div></div></div></div><div class=\"DataExplorerColumns_ColumnMain-sc-sx1t3y kHFuWO\"><span class=\"DataExplorerColumns_ColumnName-sc-1tzfrn7 fqEMUL\">takers</span></div></div><div class=\"DataExplorerColumns_Column-sc-3o3eue dzfjqf\"><div class=\"DataExplorerColumns_ColumnType-sc-1ro23id bXvfMT\"><div class=\"ToolTip_ToolTipContainer-sc-f0vhmk eHUYTV\"><span name=\"hashtag\" data-tip=\"true\" data-for=\"tooltip_220\" class=\"DataExplorerColumns_ColumnTypeIcon-sc-17opb71 bLaitT fa fa-hashtag\" currentitem=\"false\"></span><div class=\"__react_component_tooltip place-top type-dark \" id=\"tooltip_220\" data-id=\"tooltip\"><div class=\"ToolTip_ToolTipView-sc-1ci7zcv iiWQyY\">Integer</div></div></div></div><div class=\"DataExplorerColumns_ColumnMain-sc-sx1t3y kHFuWO\"><span class=\"DataExplorerColumns_ColumnName-sc-1tzfrn7 fqEMUL\">studyunits</span></div></div><div class=\"DataExplorerColumns_Column-sc-3o3eue dzfjqf\"><div class=\"DataExplorerColumns_ColumnType-sc-1ro23id bXvfMT\"><div class=\"ToolTip_ToolTipContainer-sc-f0vhmk eHUYTV\"><span name=\"hashtag\" data-tip=\"true\" data-for=\"tooltip_221\" class=\"DataExplorerColumns_ColumnTypeIcon-sc-17opb71 bLaitT fa fa-hashtag\" currentitem=\"false\"></span><div class=\"__react_component_tooltip place-top type-dark \" id=\"tooltip_221\" data-id=\"tooltip\"><div class=\"ToolTip_ToolTipView-sc-1ci7zcv iiWQyY\">Integer</div></div></div></div><div class=\"DataExplorerColumns_ColumnMain-sc-sx1t3y kHFuWO\"><span class=\"DataExplorerColumns_ColumnName-sc-1tzfrn7 fqEMUL\">year</span></div></div><div class=\"DataExplorerColumns_Column-sc-3o3eue dzfjqf\"><div class=\"DataExplorerColumns_ColumnType-sc-1ro23id bXvfMT\"><div class=\"ToolTip_ToolTipContainer-sc-f0vhmk eHUYTV\"><span name=\"font\" data-tip=\"true\" data-for=\"tooltip_222\" class=\"DataExplorerColumns_ColumnTypeIcon-sc-17opb71 bLaitT fa fa-font\" currentitem=\"false\"></span><div class=\"__react_component_tooltip place-top type-dark \" id=\"tooltip_222\" data-id=\"tooltip\"><div class=\"ToolTip_ToolTipView-sc-1ci7zcv iiWQyY\">String</div></div></div></div><div class=\"DataExplorerColumns_ColumnMain-sc-sx1t3y kHFuWO\"><span class=\"DataExplorerColumns_ColumnName-sc-1tzfrn7 fqEMUL\">subject</span></div></div><div class=\"DataExplorerColumns_Column-sc-3o3eue dzfjqf\"><div class=\"DataExplorerColumns_ColumnType-sc-1ro23id bXvfMT\"><div class=\"ToolTip_ToolTipContainer-sc-f0vhmk eHUYTV\"><span name=\"font\" data-tip=\"true\" data-for=\"tooltip_223\" class=\"DataExplorerColumns_ColumnTypeIcon-sc-17opb71 bLaitT fa fa-font\" currentitem=\"false\"></span><div class=\"__react_component_tooltip place-top type-dark \" id=\"tooltip_223\" data-id=\"tooltip\"><div class=\"ToolTip_ToolTipView-sc-1ci7zcv iiWQyY\">String</div></div></div></div><div class=\"DataExplorerColumns_ColumnMain-sc-sx1t3y kHFuWO\"><span class=\"DataExplorerColumns_ColumnName-sc-1tzfrn7 fqEMUL\">city</span></div></div><div class=\"DataExplorerColumns_Column-sc-3o3eue dzfjqf\"><div class=\"DataExplorerColumns_ColumnType-sc-1ro23id bXvfMT\"><div class=\"ToolTip_ToolTipContainer-sc-f0vhmk eHUYTV\"><span name=\"font\" data-tip=\"true\" data-for=\"tooltip_224\" class=\"DataExplorerColumns_ColumnTypeIcon-sc-17opb71 bLaitT fa fa-font\" currentitem=\"false\"></span><div class=\"__react_component_tooltip place-top type-dark \" id=\"tooltip_224\" data-id=\"tooltip\"><div class=\"ToolTip_ToolTipView-sc-1ci7zcv iiWQyY\">String</div></div></div></div><div class=\"DataExplorerColumns_ColumnMain-sc-sx1t3y kHFuWO\"><span class=\"DataExplorerColumns_ColumnName-sc-1tzfrn7 fqEMUL\">school</span></div></div><div class=\"DataExplorerColumns_Column-sc-3o3eue dzfjqf\"><div class=\"DataExplorerColumns_ColumnType-sc-1ro23id bXvfMT\"><div class=\"ToolTip_ToolTipContainer-sc-f0vhmk eHUYTV\"><span name=\"hashtag\" data-tip=\"true\" data-for=\"tooltip_225\" class=\"DataExplorerColumns_ColumnTypeIcon-sc-17opb71 bLaitT fa fa-hashtag\" currentitem=\"false\"></span><div class=\"__react_component_tooltip place-top type-dark \" id=\"tooltip_225\" data-id=\"tooltip\"><div class=\"ToolTip_ToolTipView-sc-1ci7zcv iiWQyY\">Integer</div></div></div></div><div class=\"DataExplorerColumns_ColumnMain-sc-sx1t3y kHFuWO\"><span class=\"DataExplorerColumns_ColumnName-sc-1tzfrn7 fqEMUL\">semel</span></div></div></div>"
      ]
    },
    {
      "cell_type": "markdown",
      "metadata": {
        "id": "OLcZdmyu5tF3",
        "colab_type": "text"
      },
      "source": [
        "# **Get the dataset**"
      ]
    },
    {
      "cell_type": "markdown",
      "metadata": {
        "id": "1BiEoPQV63XJ",
        "colab_type": "text"
      },
      "source": [
        "## **Upload data files**\n",
        "1. **Upload dataset CSV format file**\n",
        "\n",
        "2. **Upload israeli cities mapping .xlsx format file**"
      ]
    },
    {
      "cell_type": "code",
      "metadata": {
        "id": "Ybqg7rl7w1ZS",
        "colab_type": "code",
        "colab": {}
      },
      "source": [
        "def user_upload_multiple_files():\n",
        "    number_of_files = int(input(\"please enter number of files to upload\\n\"))\n",
        "\n",
        "    for file in range(0,number_of_files):\n",
        "        if 'google.colab' in modules:\n",
        "            from google.colab import files\n",
        "            uploaded = files.upload()\n",
        "user_upload_multiple_files()"
      ],
      "execution_count": 0,
      "outputs": []
    },
    {
      "cell_type": "markdown",
      "metadata": {
        "id": "o7GfiEUc-rYJ",
        "colab_type": "text"
      },
      "source": [
        "# **Data Manipulation and EDA**"
      ]
    },
    {
      "cell_type": "markdown",
      "metadata": {
        "id": "Ebn0CUPdEAiu",
        "colab_type": "text"
      },
      "source": [
        "## **Data Madipulation**"
      ]
    },
    {
      "cell_type": "markdown",
      "metadata": {
        "id": "1p9ph6ha7IGR",
        "colab_type": "text"
      },
      "source": [
        "### **Read Data file**"
      ]
    },
    {
      "cell_type": "code",
      "metadata": {
        "id": "ulA3VJGY7PxP",
        "colab_type": "code",
        "colab": {}
      },
      "source": [
        "df = pd.read_csv(r'/content/israel_bagrut_averages.csv', encoding=\"UTF-8\")"
      ],
      "execution_count": 0,
      "outputs": []
    },
    {
      "cell_type": "markdown",
      "metadata": {
        "id": "TcgqJ2Og8AA-",
        "colab_type": "text"
      },
      "source": [
        "### **Data Head**"
      ]
    },
    {
      "cell_type": "code",
      "metadata": {
        "id": "booX59Jx7-zN",
        "colab_type": "code",
        "colab": {}
      },
      "source": [
        "df.head()"
      ],
      "execution_count": 0,
      "outputs": []
    },
    {
      "cell_type": "markdown",
      "metadata": {
        "id": "kP4fulSu8Awb",
        "colab_type": "text"
      },
      "source": [
        "### **Data Tail**"
      ]
    },
    {
      "cell_type": "code",
      "metadata": {
        "id": "nZHMWRMH8BQl",
        "colab_type": "code",
        "colab": {}
      },
      "source": [
        "df.tail()"
      ],
      "execution_count": 0,
      "outputs": []
    },
    {
      "cell_type": "markdown",
      "metadata": {
        "id": "18YXhC5r8COB",
        "colab_type": "text"
      },
      "source": [
        "### **Dataset info**"
      ]
    },
    {
      "cell_type": "code",
      "metadata": {
        "id": "WViQ334q8CiN",
        "colab_type": "code",
        "colab": {}
      },
      "source": [
        "df.info()"
      ],
      "execution_count": 0,
      "outputs": []
    },
    {
      "cell_type": "markdown",
      "metadata": {
        "id": "7vNK0Qtf8Cye",
        "colab_type": "text"
      },
      "source": [
        "### **Describe dataset**"
      ]
    },
    {
      "cell_type": "code",
      "metadata": {
        "id": "q3CS7Lus8DCr",
        "colab_type": "code",
        "colab": {}
      },
      "source": [
        "df.describe().T"
      ],
      "execution_count": 0,
      "outputs": []
    },
    {
      "cell_type": "markdown",
      "metadata": {
        "id": "vzgtn8lOHsjV",
        "colab_type": "text"
      },
      "source": [
        "### **Target variable histogram**"
      ]
    },
    {
      "cell_type": "code",
      "metadata": {
        "id": "W0VKvdlvHqrC",
        "colab_type": "code",
        "colab": {}
      },
      "source": [
        "df.grade.hist(bins=20)"
      ],
      "execution_count": 0,
      "outputs": []
    },
    {
      "cell_type": "markdown",
      "metadata": {
        "id": "gw4g9g1CW-vF",
        "colab_type": "text"
      },
      "source": [
        "### **Pairplot**"
      ]
    },
    {
      "cell_type": "code",
      "metadata": {
        "id": "U2de0KntITWi",
        "colab_type": "code",
        "colab": {}
      },
      "source": [
        "numeric_fields = [\"grade\", \"takers\", \"studyunits\", \"year\"]\n",
        "sns.pairplot(df[numeric_fields])"
      ],
      "execution_count": 0,
      "outputs": []
    },
    {
      "cell_type": "markdown",
      "metadata": {
        "id": "YLjoMO20qkdI",
        "colab_type": "text"
      },
      "source": [
        "### **Check Nulls**"
      ]
    },
    {
      "cell_type": "code",
      "metadata": {
        "id": "AKNVpseftci4",
        "colab_type": "code",
        "colab": {}
      },
      "source": [
        "df.isnull().sum(axis = 0)"
      ],
      "execution_count": 0,
      "outputs": []
    },
    {
      "cell_type": "markdown",
      "metadata": {
        "id": "ojav8mNBnDSu",
        "colab_type": "text"
      },
      "source": [
        "**Pre-processing insights:**\n",
        "An avg. grade was calculated only for observations with **more** than 10 takers.\n",
        "\n",
        "\n",
        "*We decided to omit observations with less than 11 takers - as there is no available avg grade.\n",
        "\n",
        "**We could fill-in these records with an avg. grade, but we decided that it's better to omit these records so there wouldn't be any biases of data. "
      ]
    },
    {
      "cell_type": "markdown",
      "metadata": {
        "id": "057UpI1_qr36",
        "colab_type": "text"
      },
      "source": [
        "### **Handle Nulls**"
      ]
    },
    {
      "cell_type": "code",
      "metadata": {
        "id": "ncf5ZoWEqw6Y",
        "colab_type": "code",
        "colab": {}
      },
      "source": [
        "df = df[~((df.grade.isnull()) & (df.takers<=10))]\n",
        "df.isnull().sum(axis = 0)"
      ],
      "execution_count": 0,
      "outputs": []
    },
    {
      "cell_type": "markdown",
      "metadata": {
        "id": "RnyrWPskpMNO",
        "colab_type": "text"
      },
      "source": [
        "### **Handle text data points**\n",
        "\n",
        "Trim hebrew strings features"
      ]
    },
    {
      "cell_type": "code",
      "metadata": {
        "id": "dtCkjdB7pMbv",
        "colab_type": "code",
        "colab": {}
      },
      "source": [
        "df = df.applymap(lambda x: x.strip() if isinstance(x, str) else x)"
      ],
      "execution_count": 0,
      "outputs": []
    },
    {
      "cell_type": "markdown",
      "metadata": {
        "id": "BB9KFlv-FcrA",
        "colab_type": "text"
      },
      "source": [
        "### **Read city & trim mapping file**"
      ]
    },
    {
      "cell_type": "code",
      "metadata": {
        "id": "UOPlb8J_4vB4",
        "colab_type": "code",
        "colab": {}
      },
      "source": [
        "cities_mapping = pd.read_excel(r'/content/cities_mapping_v3.xlsx')\n",
        "cities_mapping = cities_mapping.applymap(lambda x: x.strip() if isinstance(x, str) else x)\n",
        "cities_mapping.info()"
      ],
      "execution_count": 0,
      "outputs": []
    },
    {
      "cell_type": "markdown",
      "metadata": {
        "id": "SdeSpz9B5I_h",
        "colab_type": "text"
      },
      "source": [
        "### **pre-process cities-region mapping**"
      ]
    },
    {
      "cell_type": "code",
      "metadata": {
        "id": "hM66RhSf5QGr",
        "colab_type": "code",
        "colab": {}
      },
      "source": [
        "cities_mapping.drop_duplicates(subset=\"שם_ישוב\", inplace=True)\n",
        "cities_mapping = cities_mapping[[\"שם_ישוב\", \"שם_ישוב_לועזי\", \"שם_נפה\", \"מחוז\",\\\n",
        "                                 \"אוכלוסייה  סך הכל\"]]\n",
        "cities_mapping.rename(columns={\"שם_ישוב\":\"city\", \"שם_ישוב_לועזי\":\"city_en\",\\\n",
        "                               \"אוכלוסייה  סך הכל\":\"t.population\",\\\n",
        "                               \"שם_נפה\":\"sub_region\", \"מחוז\":\"Region\"},\\\n",
        "                       inplace=True)\n",
        "cities_mapping.info()"
      ],
      "execution_count": 0,
      "outputs": []
    },
    {
      "cell_type": "markdown",
      "metadata": {
        "id": "_E3ks-eIFo_R",
        "colab_type": "text"
      },
      "source": [
        "### **join region category**"
      ]
    },
    {
      "cell_type": "code",
      "metadata": {
        "id": "8p64YyNrFyZO",
        "colab_type": "code",
        "colab": {}
      },
      "source": [
        "if \"Region\" not in df.columns.values:\n",
        "    df.loc[df.city==\"מרכז אזורי שוהם\",\"city\"]=\"שוהם\"\n",
        "    df = pd.merge(df, cities_mapping, how='left', on='city')\n",
        "    df.isnull().sum(axis = 0)\n",
        "else:\n",
        "    print(\"city_region mapping was already applied\")"
      ],
      "execution_count": 0,
      "outputs": []
    },
    {
      "cell_type": "markdown",
      "metadata": {
        "id": "qIt58UmG4yzZ",
        "colab_type": "text"
      },
      "source": [
        "### **Manually fill empty region observation (by research, from google)**"
      ]
    },
    {
      "cell_type": "code",
      "metadata": {
        "id": "zATMaqfv4w_p",
        "colab_type": "code",
        "colab": {}
      },
      "source": [
        "df.loc[df.city==\"מולדה\",\"Region\"]=\"דרום\"\n",
        "df.loc[df.city==\"בתי ספר של מרחבים\",\"Region\"]=\"דרום\"\n",
        "df.loc[df.city==\"נוה\",\"Region\"]=\"דרום\"\n",
        "df.loc[df.city==\"אפרתה\",\"Region\"]=\"שומרון\"\n",
        "\n",
        "df.isnull().sum(axis = 0)"
      ],
      "execution_count": 0,
      "outputs": []
    },
    {
      "cell_type": "markdown",
      "metadata": {
        "id": "LGcDLFnJNNEC",
        "colab_type": "text"
      },
      "source": [
        "### **hebrew strings alignment right to left (from default left to right)**"
      ]
    },
    {
      "cell_type": "code",
      "metadata": {
        "id": "QFe4RFV4NNU-",
        "colab_type": "code",
        "colab": {}
      },
      "source": [
        "hebrew_alignment_right_to_left_columns = ['Region', 'city']\n",
        "for column in hebrew_alignment_right_to_left_columns:\n",
        "    df[column] = df[column].apply(lambda x: x[::-1])"
      ],
      "execution_count": 0,
      "outputs": []
    },
    {
      "cell_type": "markdown",
      "metadata": {
        "id": "7YIYYMvvEMk8",
        "colab_type": "text"
      },
      "source": [
        "## **EDA - Exploratory Data Analysis**"
      ]
    },
    {
      "cell_type": "markdown",
      "metadata": {
        "id": "pfGqaHdBjsdm",
        "colab_type": "text"
      },
      "source": [
        "### **# of Bagrut takers by year**"
      ]
    },
    {
      "cell_type": "code",
      "metadata": {
        "id": "lIkihWMJjPtN",
        "colab_type": "code",
        "colab": {}
      },
      "source": [
        "dimensions = ['year']\n",
        "measures={'takers':sum}\n",
        "\n",
        "\n",
        "df.groupby(by = dimensions).agg(measures).plot(lw=5, figsize=(15, 7))\n",
        "plt.ylabel('Total', rotation=0)\n",
        "plt.grid(visible=True)\n",
        "plt.xticks(np.arange(2013,2017,1))\n",
        "plt.ylim(400000,1000000)"
      ],
      "execution_count": 0,
      "outputs": []
    },
    {
      "cell_type": "markdown",
      "metadata": {
        "id": "BxOngyAxCttJ",
        "colab_type": "text"
      },
      "source": [
        "**Graph insights**\n",
        "\n",
        "We can see that there's an overall increase in total bagrut exams takers from 2013 to 2016, with a significant increase between 2014 and 2015."
      ]
    },
    {
      "cell_type": "markdown",
      "metadata": {
        "id": "eena9Q-YkB2b",
        "colab_type": "text"
      },
      "source": [
        "### **# of Bagrut takers by year and study units**"
      ]
    },
    {
      "cell_type": "code",
      "metadata": {
        "id": "k-DQLDG4OoKM",
        "colab_type": "code",
        "colab": {}
      },
      "source": [
        "dimensions = ['year', 'studyunits']\n",
        "measures={'takers':sum}\n",
        "\n",
        "\n",
        "df.groupby(by = dimensions).agg(measures).unstack().plot(lw=5, figsize=(15, 7))\n",
        "plt.ylabel('Total', rotation=0)\n",
        "plt.grid(visible=True)\n",
        "plt.xticks(np.arange(2013,2017,1))\n",
        "plt.ylim(0,400000)"
      ],
      "execution_count": 0,
      "outputs": []
    },
    {
      "cell_type": "markdown",
      "metadata": {
        "id": "CfU_ZgKxFnC2",
        "colab_type": "text"
      },
      "source": [
        "**Graph insights**\n",
        "\n",
        "\n",
        "The total number of bagrut exams takers among 3 and 4 study units over the years remained almost unchanged, compared to 2 and 5 study units, where the total number of bagrut exam takers were increased by \\~37.5K (\\~12%) takers and \\~25k (\\~14.5%)  takers respectively in only 4 years."
      ]
    },
    {
      "cell_type": "markdown",
      "metadata": {
        "id": "Ndae1BGKJWAL",
        "colab_type": "text"
      },
      "source": [
        "### **Grades by year and study units**"
      ]
    },
    {
      "cell_type": "code",
      "metadata": {
        "id": "_MQLuZ0dt3tc",
        "colab_type": "code",
        "colab": {}
      },
      "source": [
        "sns.set(rc={'figure.figsize':(16,12)})\n",
        "sns.boxplot(x=\"year\", y=\"grade\", hue='studyunits', data=df, linewidth=1)"
      ],
      "execution_count": 0,
      "outputs": []
    },
    {
      "cell_type": "markdown",
      "metadata": {
        "id": "I83CtHioJs3O",
        "colab_type": "text"
      },
      "source": [
        "**Graph insights**\n",
        "\n",
        "There is a constant increase in the upper quartile grades among 3 study units takers over the years."
      ]
    },
    {
      "cell_type": "markdown",
      "metadata": {
        "id": "6VpESIsAksXd",
        "colab_type": "text"
      },
      "source": [
        "### **Top N cities with most bagrut takers**"
      ]
    },
    {
      "cell_type": "code",
      "metadata": {
        "id": "xKKFtSBMksx3",
        "colab_type": "code",
        "colab": {}
      },
      "source": [
        "n = 20\n",
        "\n",
        "df['t.population'] = df['t.population'].fillna(0.0).astype('int64')\n",
        "dimensions = ['city', 't.population']\n",
        "measures={'takers':sum}\n",
        "df.groupby(by = dimensions).agg(measures).sort_values(\"takers\",ascending=False)[n::-1].plot(kind='barh',lw=5, figsize=(15, 7))\n",
        "plt.ylabel('Total', rotation=0)\n",
        "plt.grid(visible=True)"
      ],
      "execution_count": 0,
      "outputs": []
    },
    {
      "cell_type": "markdown",
      "metadata": {
        "id": "qgXUOAZaqSk9",
        "colab_type": "text"
      },
      "source": [
        "**Graph insights**\n",
        "\n",
        "As expected, the cities with most Bagrut takers are coming from the greater cities, i.e Jerusalem, Tel Aviv, Haifa."
      ]
    },
    {
      "cell_type": "markdown",
      "metadata": {
        "id": "xSbUpCnjWdj0",
        "colab_type": "text"
      },
      "source": [
        "### **Check correlation between city population size and the \\# of bagrut exam takers**"
      ]
    },
    {
      "cell_type": "code",
      "metadata": {
        "id": "G_qdc8lIUuyk",
        "colab_type": "code",
        "colab": {}
      },
      "source": [
        "df['t.population'] = df['t.population'].fillna(0.0).astype('int64')\n",
        "dimensions = ['city', 't.population']\n",
        "measures={'takers':sum}\n",
        "df2 = pd.DataFrame(df.groupby(by = dimensions).agg(measures).sort_values(\"takers\",ascending=False))\n",
        "df2 = df2.reset_index()\n",
        "sns.scatterplot(x=df2['takers'], y=df2['t.population'], alpha=0.5)"
      ],
      "execution_count": 0,
      "outputs": []
    },
    {
      "cell_type": "markdown",
      "metadata": {
        "id": "fb-T4-sSWM4q",
        "colab_type": "text"
      },
      "source": [
        "**Graph insights**\n",
        "\n",
        "There is a correlation (linear) between total # of exam takers in a certain city and its total number of population."
      ]
    },
    {
      "cell_type": "markdown",
      "metadata": {
        "id": "wroNGuUzS1Mg",
        "colab_type": "text"
      },
      "source": [
        "### **Top N cities with highest bagrut avg grade**"
      ]
    },
    {
      "cell_type": "code",
      "metadata": {
        "id": "eHFe9M5vNtVw",
        "colab_type": "code",
        "colab": {}
      },
      "source": [
        "n = 15\n",
        "dimensions = ['city']\n",
        "measures={'grade':np.mean}\n",
        "\n",
        "top_n_avg_cities = df.groupby(by = dimensions).agg(measures).sort_values(\"grade\",ascending=False)[n:0:-1].sort_values(\"grade\",ascending=False)\n",
        "sns.barplot(x=top_n_avg_cities.index, y=top_n_avg_cities['grade'],palette=\"BuGn_r\")\n",
        "plt.ylim(80,90)\n",
        "plt.ylabel('Total', rotation=0)\n",
        "plt.grid(visible=True)"
      ],
      "execution_count": 0,
      "outputs": []
    },
    {
      "cell_type": "markdown",
      "metadata": {
        "id": "06X7WGxQtzPB",
        "colab_type": "text"
      },
      "source": [
        "**Graph insights**\n",
        "\n",
        "However, none of the above mentioned big cities with the most bagrut takers are in the top avg scores cities. most of these are small cities/residence with less than 13k residences, except for \"Givat Shmuel\" (~25K) and \"Ramat Hasharon\" (~46K)."
      ]
    },
    {
      "cell_type": "markdown",
      "metadata": {
        "id": "UqvTYFHETcUG",
        "colab_type": "text"
      },
      "source": [
        "### **Region breakdown - Top N cities with most bagrut takers**"
      ]
    },
    {
      "cell_type": "code",
      "metadata": {
        "id": "cvhLj_8dLG-u",
        "colab_type": "code",
        "colab": {}
      },
      "source": [
        "dimensions = ['Region', 'city']\n",
        "measures={'takers':sum}\n",
        "\n",
        "top_20_cities = df.groupby(by = dimensions).agg(measures).sort_values(\"takers\",ascending=False)[20:0:-1]\n",
        "top_20_cities_by_region = top_20_cities.groupby(by = 'Region').count()\n",
        "top_20_cities_by_region.sort_values(\"takers\",ascending=True).plot(kind='barh',lw=5, figsize=(15, 7))\n",
        "plt.ylabel('Total', rotation=0)\n",
        "plt.grid(visible=True)"
      ],
      "execution_count": 0,
      "outputs": []
    },
    {
      "cell_type": "markdown",
      "metadata": {
        "id": "NkwIFwVNy3SV",
        "colab_type": "text"
      },
      "source": [
        "**Graph insights**\n",
        "\n",
        "65% of the cities with the most bagrut takers are from the \"Center\" and \"Tel Aviv-Yafo\" region."
      ]
    },
    {
      "cell_type": "markdown",
      "metadata": {
        "id": "eIEBy8ZJyVUJ",
        "colab_type": "text"
      },
      "source": [
        "### **Region breakdown - Top N cities with highest bagrut avg grade**"
      ]
    },
    {
      "cell_type": "code",
      "metadata": {
        "id": "m0SNn5_ryVf1",
        "colab_type": "code",
        "colab": {}
      },
      "source": [
        "dimensions = ['Region', 'city']\n",
        "measures={'grade':np.mean}\n",
        "\n",
        "top_20_cities = df.groupby(by = dimensions).agg(measures).sort_values(\"grade\",ascending=False)[20:0:-1]\n",
        "top_20_cities_by_region = top_20_cities.groupby(by = 'Region').count()\n",
        "top_20_cities_by_region.sort_values(\"grade\",ascending=True).plot(kind='barh',lw=5, figsize=(15, 7))\n",
        "plt.ylabel('Total', rotation=0)\n",
        "plt.grid(visible=True)"
      ],
      "execution_count": 0,
      "outputs": []
    },
    {
      "cell_type": "markdown",
      "metadata": {
        "id": "ph62MyYpxcIV",
        "colab_type": "text"
      },
      "source": [
        "**Graph insights**\n",
        "\n",
        "However, in terms of regions with top bagrut avg grades, \"Tel Aviv Yafo\" is in last place, and \"North\" region 2nd, after \"Center\" region."
      ]
    },
    {
      "cell_type": "markdown",
      "metadata": {
        "id": "C1H6ekWoJOqv",
        "colab_type": "text"
      },
      "source": [
        "### **passed bagrut on avg analysis**"
      ]
    },
    {
      "cell_type": "code",
      "metadata": {
        "id": "sl-mvc6THxOx",
        "colab_type": "code",
        "colab": {}
      },
      "source": [
        "df['passed?'] = np.where(df.grade<=55,\"No\",\"Yes\")"
      ],
      "execution_count": 0,
      "outputs": []
    },
    {
      "cell_type": "markdown",
      "metadata": {
        "id": "I2XP7ZtJJb7a",
        "colab_type": "text"
      },
      "source": [
        "### **Subject Analysis**"
      ]
    },
    {
      "cell_type": "markdown",
      "metadata": {
        "id": "zHF0_Gj-Yee4",
        "colab_type": "text"
      },
      "source": [
        "#### ***N most difficult subject (subject with lowest success rate)***"
      ]
    },
    {
      "cell_type": "code",
      "metadata": {
        "id": "eDsEmp-8EGmM",
        "colab_type": "code",
        "colab": {}
      },
      "source": [
        "n = 5\n",
        "\n",
        "df['passed?'] = np.where(df.grade<=55,\"No\",\"Yes\")\n",
        "counts = df.groupby(['subject','passed?'])['takers'].count().rename(\"success rate\")\n",
        "subject_passed_vs_failed_df = pd.DataFrame(counts / counts.groupby(level=0).sum())\n",
        "subject_passed_vs_failed_df = subject_passed_vs_failed_df.reset_index()\n",
        "top_n_difficult_subject_df = subject_passed_vs_failed_df[subject_passed_vs_failed_df['passed?']=='Yes'].sort_values(\"success rate\",ascending=True)[0:n:1]\n",
        "top_n_difficult_subject_df = top_n_difficult_subject_df[[\"subject\",\"success rate\"]]\n",
        "top_n_difficult_subject_df[\"success rate\"] = top_n_difficult_subject_df[\"success rate\"].apply (lambda percent: f\"{round(percent*100,2)}%\")\n",
        "top_n_difficult_subject_df"
      ],
      "execution_count": 0,
      "outputs": []
    },
    {
      "cell_type": "markdown",
      "metadata": {
        "id": "KsCL7TMKKzDe",
        "colab_type": "text"
      },
      "source": [
        "**insights**\n",
        "\n",
        "4 out of 5 most difficult subject (subject with lowest success rate) are Arab related subject, i.e Hebrew/Arab to Druzim/Arabs.\n",
        "\n",
        "*success rate = # of passed courses of this subject / Total # of courses of this subject.\n",
        "**passed course -> Grade>=56.\n"
      ]
    },
    {
      "cell_type": "markdown",
      "metadata": {
        "id": "I4vrok7IL0pd",
        "colab_type": "text"
      },
      "source": [
        "#### **Specific subject Stats**"
      ]
    },
    {
      "cell_type": "code",
      "metadata": {
        "id": "tKMZaW73K37-",
        "colab_type": "code",
        "colab": {}
      },
      "source": [
        "subject_to_analyze = \"מתמטיקה\"\n",
        "df_input_subject = df[df['subject']==subject_to_analyze].groupby(['school','city','studyunits']).agg({'grade':'mean','takers':'sum'}).reset_index()\n",
        "print(f\"\"\"Subject: {subject_to_analyze}\n",
        "Total # of unique schools: {len(df_input_subject)}\n",
        "avg grade: {round(df_input_subject['grade'].mean(),2)}\n",
        "Total # of takers: {df_input_subject['takers'].sum()}\"\"\")"
      ],
      "execution_count": 0,
      "outputs": []
    },
    {
      "cell_type": "markdown",
      "metadata": {
        "id": "PyCef5Ye9y6f",
        "colab_type": "text"
      },
      "source": [
        "#### **Specific subject: takers vs. grades by study units**"
      ]
    },
    {
      "cell_type": "code",
      "metadata": {
        "id": "CasirbUB0D0k",
        "colab_type": "code",
        "colab": {}
      },
      "source": [
        "df_input_subject = df[df['subject']==subject_to_analyze].groupby(['school','city','studyunits']).agg({'grade':'mean','takers':'sum'}).reset_index()\n",
        "sns.scatterplot(x=df_input_subject['takers'], y=df_input_subject['grade'], hue=df_input_subject['studyunits'], alpha=0.5)"
      ],
      "execution_count": 0,
      "outputs": []
    },
    {
      "cell_type": "markdown",
      "metadata": {
        "id": "QPCXjTWBMEHu",
        "colab_type": "text"
      },
      "source": [
        "### **Language Analysis**"
      ]
    },
    {
      "cell_type": "code",
      "metadata": {
        "id": "XV_BJugA-q8n",
        "colab_type": "code",
        "colab": {}
      },
      "source": [
        "df['Language?'] = np.where(((df.subject.str.endswith('ית'))&\\\n",
        "                            (~df.subject.str.contains(\" \"))),\"Yes\",\"No\")\n",
        "df_language = df[df[\"Language?\"]==\"Yes\"]\n",
        "\n",
        "dimensions = ['studyunits','Language?']\n",
        "measures={'grade':np.mean}\n",
        "\n",
        "\n",
        "df.groupby(by = dimensions).agg(measures).unstack().plot(lw=5, figsize=(15, 7))\n",
        "plt.ylabel('Total', rotation=0)\n",
        "plt.grid(visible=True)\n",
        "plt.xticks(np.arange(1,7,1))\n",
        "plt.ylim(60,100)"
      ],
      "execution_count": 0,
      "outputs": []
    },
    {
      "cell_type": "markdown",
      "metadata": {
        "id": "AtG4J4m-AiWT",
        "colab_type": "text"
      },
      "source": [
        "**Graph insights**\n",
        "\n",
        "Overall, higher study units subjects gets higher grades on avg (increases lineary).\n",
        "\n",
        "Moreover, \"Language\" courses (\"Arab\",\"French\", etc), gets higher avg grades than all other courses, on stugy units 4,5.\n",
        "We see an increase of 2.5 and 5 points on average, respectively."
      ]
    },
    {
      "cell_type": "markdown",
      "metadata": {
        "id": "mnmVQ3hk-5BF",
        "colab_type": "text"
      },
      "source": [
        "# **Insights and conclusion**"
      ]
    },
    {
      "cell_type": "markdown",
      "metadata": {
        "id": "GrQA2ZWDAyzp",
        "colab_type": "text"
      },
      "source": [
        "##1. **Pre-processing conclusion**\n",
        "> Initially, there were ~70K observations.\n",
        "An avg. grade was calculated only for observations with **more** than 10 takers.\n",
        "\n",
        "\n",
        "> We decided to omit observations with less than 11 takers - as there is no available avg grade, resulting-in ~55k valid observations.\n",
        "\n",
        "> *We could fill-in these records with an avg. grade, but we decided that it's better to omit these records so there wouldn't be any biases of data.\n",
        "\n",
        "##2.**Data Analysis**\n",
        "\n",
        "> ### **Time Series Analysis**\n",
        "\n",
        "> 2.1) We can see that there's an overall increase in total bagrut exam takers from 2013 to 2016, with a significant increase between 2014 and 2015.\n",
        "\n",
        "> 2.2) The total number of bagrut exams takers among 3 and 4 study units over the years remained almost unchanged, compared to 2 and 5 study units, where the total number of bagrut exam takers were increased by \\~37.5K (\\~12%) takers and \\~25k (~14.5%) takers respectively in only 4 years.\n",
        "\n",
        "> ### **Location Analysis**\n",
        "\n",
        "> 2.3) As expected, the cities with most Bagrut takers are coming from the greater cities, i.e Jerusalem, Tel Aviv, Haifa.\n",
        "\n",
        "> 2.4) However, none of the above mentioned big cities with the most bagrut takers are in the top avg scores cities. most of these are small cities/residence with less than 13k residences, except for \"Givat Shmuel\" (\\~25K) and \"Ramat Hasharon\" (\\~46K).\n",
        "\n",
        "> 2.5) \\~65% of the cities with the most bagrut takers are from the \"Center\" and \"Tel Aviv-Yafo\" region.\n",
        "\n",
        ">2.6) In terms of regions with top bagrut avg grades, \"Tel Aviv Yafo\" is in last place, and the \"North\" region is 2nd, after the \"Center\" region.\n",
        "\n",
        "> ### **Subject Analysis**\n",
        "\n",
        "> #### **Subject Success Rate**\n",
        "\n",
        "> 2.7) 4 out of 5 most difficult subject (subject with lowest success rate) are Arab related subject, i.e Hebrew/Arab to Druzim/Arabs.\n",
        "\n",
        "> *success rate = # of passed courses of this subject / Total # of courses of this subject.\n",
        "\n",
        "> **passed course -> Grade>=56.\n",
        "\n",
        "> #### **Languages**\n",
        "\n",
        "> 2.8) Overall, higher study units subjects gets higher grades on avg (increases lineary).\n",
        "\n",
        "> 2.9) \"Language\" courses (\"Arab\",\"French\", etc), gets higher avg grades than all other courses, on stugy units 4,5 (in oppose to 3 study units).\n",
        "\n",
        "> We can see an increase of 2.5 and 5 points on average, respectively.\n",
        "\n",
        "\n"
      ]
    }
  ]
}